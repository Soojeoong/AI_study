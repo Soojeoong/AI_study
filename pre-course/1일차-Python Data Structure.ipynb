{
 "cells": [
  {
   "cell_type": "markdown",
   "id": "93e8c7c3",
   "metadata": {},
   "source": [
    "# 파이썬 기본 데이터 구조"
   ]
  },
  {
   "cell_type": "markdown",
   "id": "83830dbb",
   "metadata": {},
   "source": [
    "- 스택과 큐\n",
    "- 튜플과 집합\n",
    "- 사전\n",
    "- Collection 모듈"
   ]
  },
  {
   "cell_type": "markdown",
   "id": "872d62f0",
   "metadata": {},
   "source": [
    "## 스택 (stack)"
   ]
  },
  {
   "cell_type": "markdown",
   "id": "16d7b181",
   "metadata": {},
   "source": [
    "- 나중에 넣은 데이터 먼저 반환\n",
    "- Last In First Out(LIFO)\n",
    "- push : append(), pop : pop()"
   ]
  },
  {
   "cell_type": "code",
   "execution_count": 1,
   "id": "67eef930",
   "metadata": {},
   "outputs": [
    {
     "data": {
      "text/plain": [
       "[1, 2, 3, 4, 5]"
      ]
     },
     "execution_count": 1,
     "metadata": {},
     "output_type": "execute_result"
    }
   ],
   "source": [
    "a = [1,2,3,4,5]\n",
    "a"
   ]
  },
  {
   "cell_type": "code",
   "execution_count": 2,
   "id": "f2675d99",
   "metadata": {},
   "outputs": [
    {
     "data": {
      "text/plain": [
       "[1, 2, 3, 4, 5, 10]"
      ]
     },
     "execution_count": 2,
     "metadata": {},
     "output_type": "execute_result"
    }
   ],
   "source": [
    "a.append(10)\n",
    "a"
   ]
  },
  {
   "cell_type": "code",
   "execution_count": 3,
   "id": "19ddb02f",
   "metadata": {},
   "outputs": [
    {
     "data": {
      "text/plain": [
       "[1, 2, 3, 4, 5, 10, 20]"
      ]
     },
     "execution_count": 3,
     "metadata": {},
     "output_type": "execute_result"
    }
   ],
   "source": [
    "a.append(20)\n",
    "a"
   ]
  },
  {
   "cell_type": "code",
   "execution_count": 4,
   "id": "641b0374",
   "metadata": {},
   "outputs": [
    {
     "data": {
      "text/plain": [
       "20"
      ]
     },
     "execution_count": 4,
     "metadata": {},
     "output_type": "execute_result"
    }
   ],
   "source": [
    "a.pop() # return하면서 pop"
   ]
  },
  {
   "cell_type": "code",
   "execution_count": 5,
   "id": "e9a3ac5a",
   "metadata": {},
   "outputs": [
    {
     "data": {
      "text/plain": [
       "10"
      ]
     },
     "execution_count": 5,
     "metadata": {},
     "output_type": "execute_result"
    }
   ],
   "source": [
    "a.pop()"
   ]
  },
  {
   "cell_type": "code",
   "execution_count": 6,
   "id": "833025b9",
   "metadata": {},
   "outputs": [
    {
     "data": {
      "text/plain": [
       "[1, 2, 3, 4, 5]"
      ]
     },
     "execution_count": 6,
     "metadata": {},
     "output_type": "execute_result"
    }
   ],
   "source": [
    "a"
   ]
  },
  {
   "cell_type": "code",
   "execution_count": 8,
   "id": "7390e55a",
   "metadata": {},
   "outputs": [
    {
     "name": "stdout",
     "output_type": "stream",
     "text": [
      "input a word : naver\n",
      "r\n",
      "['n', 'a', 'v', 'e']\n",
      "e\n",
      "['n', 'a', 'v']\n",
      "v\n",
      "['n', 'a']\n",
      "a\n",
      "['n']\n",
      "n\n",
      "[]\n"
     ]
    }
   ],
   "source": [
    "word = input(\"input a word : \")\n",
    "word_list = list(word)\n",
    "for _ in range(len(word_list)):\n",
    "    print(word_list.pop())\n",
    "    print(word_list)"
   ]
  },
  {
   "cell_type": "markdown",
   "id": "5daac408",
   "metadata": {},
   "source": [
    "## 큐 (queue)"
   ]
  },
  {
   "cell_type": "markdown",
   "id": "8354ada0",
   "metadata": {},
   "source": [
    "- 먼저 넣은 데이터 먼저 반환\n",
    "- First In First Out(FIFO)\n",
    "- Stack과 반대되는 개념\n",
    "- put : append(), get : pop(0)"
   ]
  },
  {
   "cell_type": "code",
   "execution_count": 9,
   "id": "5f3ec7ff",
   "metadata": {},
   "outputs": [
    {
     "data": {
      "text/plain": [
       "[1, 2, 3, 4, 5, 10, 20]"
      ]
     },
     "execution_count": 9,
     "metadata": {},
     "output_type": "execute_result"
    }
   ],
   "source": [
    "a = [1,2,3,4,5]\n",
    "a.append(10)\n",
    "a.append(20)\n",
    "a"
   ]
  },
  {
   "cell_type": "code",
   "execution_count": 10,
   "id": "e92daabd",
   "metadata": {},
   "outputs": [
    {
     "data": {
      "text/plain": [
       "[2, 3, 4, 5, 10, 20]"
      ]
     },
     "execution_count": 10,
     "metadata": {},
     "output_type": "execute_result"
    }
   ],
   "source": [
    "first = a.pop(0) # 1 출력\n",
    "a"
   ]
  },
  {
   "cell_type": "code",
   "execution_count": 11,
   "id": "83265655",
   "metadata": {},
   "outputs": [
    {
     "data": {
      "text/plain": [
       "1"
      ]
     },
     "execution_count": 11,
     "metadata": {},
     "output_type": "execute_result"
    }
   ],
   "source": [
    "first"
   ]
  },
  {
   "cell_type": "code",
   "execution_count": 12,
   "id": "2cb56ce7",
   "metadata": {},
   "outputs": [
    {
     "data": {
      "text/plain": [
       "3"
      ]
     },
     "execution_count": 12,
     "metadata": {},
     "output_type": "execute_result"
    }
   ],
   "source": [
    "a.pop(0) # 2\n",
    "a.pop(0) # 3"
   ]
  },
  {
   "cell_type": "code",
   "execution_count": 13,
   "id": "b4ac9fcf",
   "metadata": {},
   "outputs": [
    {
     "data": {
      "text/plain": [
       "[4, 5, 10, 20]"
      ]
     },
     "execution_count": 13,
     "metadata": {},
     "output_type": "execute_result"
    }
   ],
   "source": [
    "a"
   ]
  },
  {
   "cell_type": "markdown",
   "id": "0a7e3c2a",
   "metadata": {},
   "source": [
    "## 튜플(tuple)\n",
    "- 값의 변경이 불가능한 리스트\n",
    "- 선언시 \"()\"\n",
    "- 리스트의 연산, 인덱싱, 슬라이싱 동일하게 사용"
   ]
  },
  {
   "cell_type": "code",
   "execution_count": 14,
   "id": "0f9b6ec1",
   "metadata": {},
   "outputs": [
    {
     "data": {
      "text/plain": [
       "tuple"
      ]
     },
     "execution_count": 14,
     "metadata": {},
     "output_type": "execute_result"
    }
   ],
   "source": [
    "t = (1,2,3)\n",
    "type(t)"
   ]
  },
  {
   "cell_type": "code",
   "execution_count": 15,
   "id": "dcfebb22",
   "metadata": {},
   "outputs": [
    {
     "data": {
      "text/plain": [
       "(1, 2, 3, 1, 2, 3)"
      ]
     },
     "execution_count": 15,
     "metadata": {},
     "output_type": "execute_result"
    }
   ],
   "source": [
    "t + t"
   ]
  },
  {
   "cell_type": "code",
   "execution_count": 16,
   "id": "67bf9dc7",
   "metadata": {},
   "outputs": [
    {
     "data": {
      "text/plain": [
       "(1, 2, 3, 1, 2, 3)"
      ]
     },
     "execution_count": 16,
     "metadata": {},
     "output_type": "execute_result"
    }
   ],
   "source": [
    "t * 2"
   ]
  },
  {
   "cell_type": "code",
   "execution_count": 17,
   "id": "352590fd",
   "metadata": {},
   "outputs": [
    {
     "data": {
      "text/plain": [
       "(1, 2, 3)"
      ]
     },
     "execution_count": 17,
     "metadata": {},
     "output_type": "execute_result"
    }
   ],
   "source": [
    "t # t는 변화 X"
   ]
  },
  {
   "cell_type": "code",
   "execution_count": 18,
   "id": "8626c62c",
   "metadata": {},
   "outputs": [
    {
     "data": {
      "text/plain": [
       "3"
      ]
     },
     "execution_count": 18,
     "metadata": {},
     "output_type": "execute_result"
    }
   ],
   "source": [
    "len(t)"
   ]
  },
  {
   "cell_type": "code",
   "execution_count": 20,
   "id": "1bd90e8e",
   "metadata": {},
   "outputs": [
    {
     "data": {
      "text/plain": [
       "2"
      ]
     },
     "execution_count": 20,
     "metadata": {},
     "output_type": "execute_result"
    }
   ],
   "source": [
    "t[1]"
   ]
  },
  {
   "cell_type": "code",
   "execution_count": 21,
   "id": "0a2b2510",
   "metadata": {},
   "outputs": [
    {
     "ename": "TypeError",
     "evalue": "'tuple' object does not support item assignment",
     "output_type": "error",
     "traceback": [
      "\u001b[1;31m---------------------------------------------------------------------------\u001b[0m",
      "\u001b[1;31mTypeError\u001b[0m                                 Traceback (most recent call last)",
      "\u001b[1;32m~\\AppData\\Local\\Temp/ipykernel_12308/4226112467.py\u001b[0m in \u001b[0;36m<module>\u001b[1;34m\u001b[0m\n\u001b[1;32m----> 1\u001b[1;33m \u001b[0mt\u001b[0m\u001b[1;33m[\u001b[0m\u001b[1;36m1\u001b[0m\u001b[1;33m]\u001b[0m \u001b[1;33m=\u001b[0m \u001b[1;36m5\u001b[0m\u001b[1;33m\u001b[0m\u001b[1;33m\u001b[0m\u001b[0m\n\u001b[0m",
      "\u001b[1;31mTypeError\u001b[0m: 'tuple' object does not support item assignment"
     ]
    }
   ],
   "source": [
    "t[1] = 5 # 값의 변경 불가능!!"
   ]
  },
  {
   "cell_type": "markdown",
   "id": "31249ef7",
   "metadata": {},
   "source": [
    "### 왜 쓸까?\n",
    " - 변경되지 않게 할 때 ex) 학번, 이름, 우편번호\n",
    " - 함수의 반환 값 등 사용자의 실수에 의한 에러를 사전에 방지"
   ]
  },
  {
   "cell_type": "code",
   "execution_count": 22,
   "id": "7cbe7b1a",
   "metadata": {},
   "outputs": [
    {
     "data": {
      "text/plain": [
       "int"
      ]
     },
     "execution_count": 22,
     "metadata": {},
     "output_type": "execute_result"
    }
   ],
   "source": [
    "t = (1) #일반정수로 인식\n",
    "type(t)"
   ]
  },
  {
   "cell_type": "code",
   "execution_count": 23,
   "id": "7c5faee5",
   "metadata": {},
   "outputs": [
    {
     "data": {
      "text/plain": [
       "tuple"
      ]
     },
     "execution_count": 23,
     "metadata": {},
     "output_type": "execute_result"
    }
   ],
   "source": [
    "t = (1,) # 값이 하나인 Tuple인 반드시 \",\"를 붙여야 함\n",
    "type(t)"
   ]
  },
  {
   "cell_type": "markdown",
   "id": "271f8abd",
   "metadata": {},
   "source": [
    "## 집합 (set)\n",
    "- 값을 순서없이 저장, 중복 불허하는 자료형\n",
    "- set 객체 선언을 이용하여 객체 생성"
   ]
  },
  {
   "cell_type": "code",
   "execution_count": 26,
   "id": "b107be2a",
   "metadata": {},
   "outputs": [
    {
     "name": "stdout",
     "output_type": "stream",
     "text": [
      "{1, 2, 3}\n",
      "<class 'set'>\n"
     ]
    }
   ],
   "source": [
    "s = set([1,2,3,1,2,3]) # set 함수로 집합 객체 만들기 \n",
    "print(s)\n",
    "print(type(s))"
   ]
  },
  {
   "cell_type": "code",
   "execution_count": 29,
   "id": "ac50bbce",
   "metadata": {},
   "outputs": [
    {
     "data": {
      "text/plain": [
       "set"
      ]
     },
     "execution_count": 29,
     "metadata": {},
     "output_type": "execute_result"
    }
   ],
   "source": [
    "a = {1,2,3,4,5}\n",
    "type(a)"
   ]
  },
  {
   "cell_type": "markdown",
   "id": "1cddd26e",
   "metadata": {},
   "source": [
    "추가 : add()"
   ]
  },
  {
   "cell_type": "code",
   "execution_count": 30,
   "id": "8538ed2e",
   "metadata": {},
   "outputs": [
    {
     "data": {
      "text/plain": [
       "{1, 2, 3}"
      ]
     },
     "execution_count": 30,
     "metadata": {},
     "output_type": "execute_result"
    }
   ],
   "source": [
    "s.add(1)\n",
    "s"
   ]
  },
  {
   "cell_type": "markdown",
   "id": "8c767d99",
   "metadata": {},
   "source": [
    "삭제 : remove()"
   ]
  },
  {
   "cell_type": "code",
   "execution_count": 31,
   "id": "e1576432",
   "metadata": {},
   "outputs": [
    {
     "data": {
      "text/plain": [
       "{2, 3}"
      ]
     },
     "execution_count": 31,
     "metadata": {},
     "output_type": "execute_result"
    }
   ],
   "source": [
    "s.remove(1)\n",
    "s"
   ]
  },
  {
   "cell_type": "markdown",
   "id": "366a60ce",
   "metadata": {},
   "source": [
    "여러 원소 추가 : update()"
   ]
  },
  {
   "cell_type": "code",
   "execution_count": 32,
   "id": "df8f194e",
   "metadata": {},
   "outputs": [
    {
     "data": {
      "text/plain": [
       "{1, 2, 3, 4, 5, 6, 7}"
      ]
     },
     "execution_count": 32,
     "metadata": {},
     "output_type": "execute_result"
    }
   ],
   "source": [
    "s.update([1,4,5,6,7]) # 여러 원소 추가\n",
    "s"
   ]
  },
  {
   "cell_type": "markdown",
   "id": "797f1608",
   "metadata": {},
   "source": [
    "삭제 : discard()"
   ]
  },
  {
   "cell_type": "code",
   "execution_count": 33,
   "id": "1911b639",
   "metadata": {},
   "outputs": [
    {
     "data": {
      "text/plain": [
       "{1, 2, 4, 5, 6, 7}"
      ]
     },
     "execution_count": 33,
     "metadata": {},
     "output_type": "execute_result"
    }
   ],
   "source": [
    "s.discard(3) # 삭제\n",
    "s"
   ]
  },
  {
   "cell_type": "markdown",
   "id": "1bfe1258",
   "metadata": {},
   "source": [
    "모든 원소 삭제 : clear()"
   ]
  },
  {
   "cell_type": "code",
   "execution_count": 34,
   "id": "e9b0d78a",
   "metadata": {},
   "outputs": [
    {
     "data": {
      "text/plain": [
       "set()"
      ]
     },
     "execution_count": 34,
     "metadata": {},
     "output_type": "execute_result"
    }
   ],
   "source": [
    "s.clear()\n",
    "s"
   ]
  },
  {
   "cell_type": "markdown",
   "id": "44ba3017",
   "metadata": {},
   "source": [
    "### 수학에서 활용하는 다양한 집합 연산 가능\n",
    "- 합집합, 교집합, 차집합"
   ]
  },
  {
   "cell_type": "code",
   "execution_count": 35,
   "id": "e799af46",
   "metadata": {},
   "outputs": [
    {
     "data": {
      "text/plain": [
       "(set, set)"
      ]
     },
     "execution_count": 35,
     "metadata": {},
     "output_type": "execute_result"
    }
   ],
   "source": [
    "s1 = set([1,2,3,4,5])\n",
    "s2 = set([3,4,5,6,7])\n",
    "type(s1), type(s2)"
   ]
  },
  {
   "cell_type": "markdown",
   "id": "c965dc38",
   "metadata": {},
   "source": [
    "합집합 : union(), |"
   ]
  },
  {
   "cell_type": "code",
   "execution_count": 36,
   "id": "b60b9cc9",
   "metadata": {},
   "outputs": [
    {
     "data": {
      "text/plain": [
       "{1, 2, 3, 4, 5, 6, 7}"
      ]
     },
     "execution_count": 36,
     "metadata": {},
     "output_type": "execute_result"
    }
   ],
   "source": [
    "s1.union(s2) #합집합"
   ]
  },
  {
   "cell_type": "code",
   "execution_count": 37,
   "id": "0b89bd6a",
   "metadata": {},
   "outputs": [
    {
     "data": {
      "text/plain": [
       "{1, 2, 3, 4, 5, 6, 7}"
      ]
     },
     "execution_count": 37,
     "metadata": {},
     "output_type": "execute_result"
    }
   ],
   "source": [
    "s1 | s2 #합집합"
   ]
  },
  {
   "cell_type": "markdown",
   "id": "a275dc1c",
   "metadata": {},
   "source": [
    "교집합 : intersection(), &"
   ]
  },
  {
   "cell_type": "code",
   "execution_count": 38,
   "id": "ee7224f8",
   "metadata": {},
   "outputs": [
    {
     "data": {
      "text/plain": [
       "{3, 4, 5}"
      ]
     },
     "execution_count": 38,
     "metadata": {},
     "output_type": "execute_result"
    }
   ],
   "source": [
    "s1.intersection(s2)"
   ]
  },
  {
   "cell_type": "code",
   "execution_count": 39,
   "id": "d30b387b",
   "metadata": {},
   "outputs": [
    {
     "data": {
      "text/plain": [
       "{3, 4, 5}"
      ]
     },
     "execution_count": 39,
     "metadata": {},
     "output_type": "execute_result"
    }
   ],
   "source": [
    "s1 & s2"
   ]
  },
  {
   "cell_type": "markdown",
   "id": "45dedfd2",
   "metadata": {},
   "source": [
    "차집합 : difference(), - "
   ]
  },
  {
   "cell_type": "code",
   "execution_count": 40,
   "id": "a741a4af",
   "metadata": {
    "scrolled": true
   },
   "outputs": [
    {
     "data": {
      "text/plain": [
       "{1, 2}"
      ]
     },
     "execution_count": 40,
     "metadata": {},
     "output_type": "execute_result"
    }
   ],
   "source": [
    "s1.difference(s2)"
   ]
  },
  {
   "cell_type": "code",
   "execution_count": 41,
   "id": "0e49e783",
   "metadata": {},
   "outputs": [
    {
     "data": {
      "text/plain": [
       "{1, 2}"
      ]
     },
     "execution_count": 41,
     "metadata": {},
     "output_type": "execute_result"
    }
   ],
   "source": [
    "s1 - s2"
   ]
  },
  {
   "cell_type": "markdown",
   "id": "ef7504d9",
   "metadata": {},
   "source": [
    "## 사전 (dictionary)"
   ]
  },
  {
   "cell_type": "markdown",
   "id": "34868137",
   "metadata": {},
   "source": [
    "- 데이터를 저장할 때는 구분 지을 수 있는 값을 함께 저장\n",
    "    - 예 : 주민등록번호, 제품모델번호\n",
    "- {Key : Value}\n",
    "- 다른 언어에서는 Hash Table"
   ]
  },
  {
   "cell_type": "code",
   "execution_count": 42,
   "id": "9e89d623",
   "metadata": {},
   "outputs": [
    {
     "data": {
      "text/plain": [
       "{'America': 1, 'Korea': 82, 'China': 86, 'Japan': 81}"
      ]
     },
     "execution_count": 42,
     "metadata": {},
     "output_type": "execute_result"
    }
   ],
   "source": [
    "country_code = {} #Dict 생성, dict()도 가능\n",
    "country_code = {\"America\":1, \"Korea\":82, \"China\":86, \"Japan\":81}\n",
    "country_code"
   ]
  },
  {
   "cell_type": "code",
   "execution_count": 43,
   "id": "9a867256",
   "metadata": {},
   "outputs": [
    {
     "data": {
      "text/plain": [
       "dict_items([('America', 1), ('Korea', 82), ('China', 86), ('Japan', 81)])"
      ]
     },
     "execution_count": 43,
     "metadata": {},
     "output_type": "execute_result"
    }
   ],
   "source": [
    "country_code.items() #Dict 데이터 출력"
   ]
  },
  {
   "cell_type": "code",
   "execution_count": 44,
   "id": "0cc8e625",
   "metadata": {},
   "outputs": [
    {
     "name": "stdout",
     "output_type": "stream",
     "text": [
      "('America', 1)\n",
      "<class 'tuple'>\n",
      "('Korea', 82)\n",
      "<class 'tuple'>\n",
      "('China', 86)\n",
      "<class 'tuple'>\n",
      "('Japan', 81)\n",
      "<class 'tuple'>\n"
     ]
    }
   ],
   "source": [
    "for dict_items in country_code.items():\n",
    "    print(dict_items)\n",
    "    print(type(dict_items)) #튜플 형태로 출력"
   ]
  },
  {
   "cell_type": "code",
   "execution_count": 45,
   "id": "bc8a1bf3",
   "metadata": {
    "scrolled": true
   },
   "outputs": [
    {
     "data": {
      "text/plain": [
       "dict_keys(['America', 'Korea', 'China', 'Japan'])"
      ]
     },
     "execution_count": 45,
     "metadata": {},
     "output_type": "execute_result"
    }
   ],
   "source": [
    "country_code.keys() # Dict 키값만 출력"
   ]
  },
  {
   "cell_type": "code",
   "execution_count": 47,
   "id": "6a235a24",
   "metadata": {},
   "outputs": [
    {
     "data": {
      "text/plain": [
       "{'America': 1, 'Korea': 82, 'China': 86, 'Japan': 81, 'German': 49}"
      ]
     },
     "execution_count": 47,
     "metadata": {},
     "output_type": "execute_result"
    }
   ],
   "source": [
    "country_code['German']=49 # Dict 추가\n",
    "country_code"
   ]
  },
  {
   "cell_type": "code",
   "execution_count": 48,
   "id": "0b78c7f5",
   "metadata": {},
   "outputs": [
    {
     "data": {
      "text/plain": [
       "{'America': 1, 'Korea': 82, 'China': 86, 'Japan': 81, 'German': 55}"
      ]
     },
     "execution_count": 48,
     "metadata": {},
     "output_type": "execute_result"
    }
   ],
   "source": [
    "country_code['German'] = 55 #수정\n",
    "country_code"
   ]
  },
  {
   "cell_type": "code",
   "execution_count": 49,
   "id": "a207714d",
   "metadata": {},
   "outputs": [
    {
     "data": {
      "text/plain": [
       "dict_values([1, 82, 86, 81, 55])"
      ]
     },
     "execution_count": 49,
     "metadata": {},
     "output_type": "execute_result"
    }
   ],
   "source": [
    "country_code.values() # Dict Value값들만 출력"
   ]
  },
  {
   "cell_type": "code",
   "execution_count": 50,
   "id": "241083ad",
   "metadata": {},
   "outputs": [
    {
     "name": "stdout",
     "output_type": "stream",
     "text": [
      "Key:  America\n",
      "Value:  1\n",
      "Key:  Korea\n",
      "Value:  82\n",
      "Key:  China\n",
      "Value:  86\n",
      "Key:  Japan\n",
      "Value:  81\n",
      "Key:  German\n",
      "Value:  55\n"
     ]
    }
   ],
   "source": [
    "for k,v in country_code.items(): # (Key, Value)에서 언패킹 \n",
    "    print(\"Key: \", k)\n",
    "    print(\"Value: \", v)"
   ]
  },
  {
   "cell_type": "code",
   "execution_count": 51,
   "id": "3d551c06",
   "metadata": {},
   "outputs": [
    {
     "data": {
      "text/plain": [
       "True"
      ]
     },
     "execution_count": 51,
     "metadata": {},
     "output_type": "execute_result"
    }
   ],
   "source": [
    "\"Korea\" in country_code.keys() # Key값에 \"Korea\" 있는지 확인"
   ]
  },
  {
   "cell_type": "code",
   "execution_count": 52,
   "id": "8c12b0c1",
   "metadata": {},
   "outputs": [
    {
     "data": {
      "text/plain": [
       "True"
      ]
     },
     "execution_count": 52,
     "metadata": {},
     "output_type": "execute_result"
    }
   ],
   "source": [
    "82 in country_code.values() #Value값에 82가 있는지 확인"
   ]
  },
  {
   "cell_type": "markdown",
   "id": "195e1e15",
   "metadata": {},
   "source": [
    "## Collections 모듈"
   ]
  },
  {
   "cell_type": "markdown",
   "id": "21a7122b",
   "metadata": {},
   "source": [
    "- List, Tuple, Dict에 대한 Python Built-in 확장 자료 구조(모듈)\n",
    "- 편의성, 실행 효율 등을 사용자에게 제공함\n",
    "- 아래 모듈이 존재"
   ]
  },
  {
   "cell_type": "code",
   "execution_count": 1,
   "id": "b3dd1629",
   "metadata": {},
   "outputs": [],
   "source": [
    "from collections import deque\n",
    "from collections import Counter\n",
    "from collections import OrderedDict\n",
    "from collections import defaultdict\n",
    "from collections import namedtuple"
   ]
  },
  {
   "cell_type": "markdown",
   "id": "18c01dda",
   "metadata": {},
   "source": [
    "### deque\n",
    "- Stack과 Queue 지원 모듈\n",
    "- List에 비해 효율적임 = 빠른 자료 저장 방식 지원"
   ]
  },
  {
   "cell_type": "code",
   "execution_count": 2,
   "id": "195002f5",
   "metadata": {},
   "outputs": [
    {
     "name": "stdout",
     "output_type": "stream",
     "text": [
      "deque([0, 1, 2, 3, 4])\n",
      "deque([10, 0, 1, 2, 3, 4])\n"
     ]
    }
   ],
   "source": [
    "from collections import deque\n",
    "\n",
    "deque_list = deque()\n",
    "for i in range(5):\n",
    "    deque_list.append(i)\n",
    "print(deque_list)\n",
    "deque_list.appendleft(10)\n",
    "print(deque_list)"
   ]
  },
  {
   "cell_type": "markdown",
   "id": "c221f2c8",
   "metadata": {},
   "source": [
    "- rotate, reverse 등 Linked List의 특성 지원\n",
    "- 기존 list 형태의 함수 모두 지원"
   ]
  },
  {
   "cell_type": "code",
   "execution_count": 3,
   "id": "34ff96cd",
   "metadata": {},
   "outputs": [
    {
     "data": {
      "text/plain": [
       "deque([4, 10, 0, 1, 2, 3])"
      ]
     },
     "execution_count": 3,
     "metadata": {},
     "output_type": "execute_result"
    }
   ],
   "source": [
    "deque_list.rotate(1) # 한칸씩 오른쪽으로\n",
    "deque_list"
   ]
  },
  {
   "cell_type": "code",
   "execution_count": 4,
   "id": "f8ac7cc7",
   "metadata": {},
   "outputs": [
    {
     "data": {
      "text/plain": [
       "deque([4, 10, 0, 1, 2, 3, 5, 6, 7])"
      ]
     },
     "execution_count": 4,
     "metadata": {},
     "output_type": "execute_result"
    }
   ],
   "source": [
    "deque_list.extend([5,6,7]) # 추가\n",
    "deque_list"
   ]
  },
  {
   "cell_type": "code",
   "execution_count": 5,
   "id": "0df3cc49",
   "metadata": {},
   "outputs": [],
   "source": [
    "deque_list.extendleft([5,6,7]) #5부터 왼쪽에 삽입"
   ]
  },
  {
   "cell_type": "code",
   "execution_count": 7,
   "id": "3f90102f",
   "metadata": {},
   "outputs": [
    {
     "data": {
      "text/plain": [
       "deque([7, 6, 5, 4, 10, 0, 1, 2, 3, 5, 6, 7])"
      ]
     },
     "execution_count": 7,
     "metadata": {},
     "output_type": "execute_result"
    }
   ],
   "source": [
    "deque_list"
   ]
  },
  {
   "cell_type": "markdown",
   "id": "c27eeaa2",
   "metadata": {},
   "source": [
    "- deque는 기존 list보다 효율적인 자료구조 제공\n",
    "- 효율적 메모리 구조로 처리 속도 향상"
   ]
  },
  {
   "cell_type": "code",
   "execution_count": 9,
   "id": "0f08c19d",
   "metadata": {},
   "outputs": [
    {
     "name": "stdout",
     "output_type": "stream",
     "text": [
      "2.48 ms ± 123 µs per loop (mean ± std. dev. of 7 runs, 100 loops each)\n"
     ]
    }
   ],
   "source": [
    "# list 속도\n",
    "def general_list():\n",
    "    just_list = []\n",
    "    for i in range(100):\n",
    "        for i in range(100):\n",
    "            just_list.append(i)\n",
    "            just_list.pop()\n",
    "%timeit general_list() #속도 재는 모듈"
   ]
  },
  {
   "cell_type": "code",
   "execution_count": 13,
   "id": "d3780f3c",
   "metadata": {},
   "outputs": [
    {
     "name": "stdout",
     "output_type": "stream",
     "text": [
      "887 µs ± 53.2 µs per loop (mean ± std. dev. of 7 runs, 1000 loops each)\n"
     ]
    }
   ],
   "source": [
    "# dequeue 속도\n",
    "def deque_list():\n",
    "    deque_list = deque()\n",
    "    for i in range(100):\n",
    "        for i in range(100):\n",
    "            deque_list.append(i)\n",
    "            deque_list.pop()\n",
    "%timeit deque_list()"
   ]
  },
  {
   "cell_type": "markdown",
   "id": "549e9669",
   "metadata": {},
   "source": [
    "### OrderedDic\n",
    "- Dict와 달리, 데이터를 입력한 순서대로 dict를 반환함\n",
    "- 그러나 dict도 python 3.6부터 입력한 순서를 보장하여 출력함\n",
    "- 요즘은 의미없음"
   ]
  },
  {
   "cell_type": "code",
   "execution_count": 14,
   "id": "df62bc88",
   "metadata": {},
   "outputs": [
    {
     "name": "stdout",
     "output_type": "stream",
     "text": [
      "x 100\n",
      "z 300\n",
      "y 200\n",
      "l 500\n"
     ]
    }
   ],
   "source": [
    "from collections import OrderedDict\n",
    "\n",
    "d = {}\n",
    "d['x'] = 100\n",
    "d['z'] = 300\n",
    "d['y'] = 200\n",
    "d['l'] = 500\n",
    "\n",
    "for k,v in d.items():\n",
    "    print(k,v)"
   ]
  },
  {
   "cell_type": "code",
   "execution_count": 16,
   "id": "4bc1687d",
   "metadata": {},
   "outputs": [],
   "source": [
    "def get_key(x):\n",
    "    return x[0]"
   ]
  },
  {
   "cell_type": "code",
   "execution_count": 17,
   "id": "6c5e4b87",
   "metadata": {},
   "outputs": [
    {
     "data": {
      "text/plain": [
       "[('l', 500), ('x', 100), ('y', 200), ('z', 300)]"
      ]
     },
     "execution_count": 17,
     "metadata": {},
     "output_type": "execute_result"
    }
   ],
   "source": [
    "sorted(d.items(), key=lambda t: t[0])"
   ]
  },
  {
   "cell_type": "code",
   "execution_count": 19,
   "id": "471bc57b",
   "metadata": {},
   "outputs": [
    {
     "name": "stdout",
     "output_type": "stream",
     "text": [
      "l 500\n",
      "x 100\n",
      "y 200\n",
      "z 300\n"
     ]
    }
   ],
   "source": [
    "for k,v in OrderedDict(sorted(d.items(), key=lambda t:t[0])).items():\n",
    "    print(k,v)"
   ]
  },
  {
   "cell_type": "markdown",
   "id": "21e6c3dc",
   "metadata": {},
   "source": [
    "## defaultdict\n",
    "- Dict type의 값에 기본 값을 지정, 신규값 생성시 사용하는 방법"
   ]
  },
  {
   "cell_type": "code",
   "execution_count": 20,
   "id": "e2bae7ae",
   "metadata": {},
   "outputs": [
    {
     "ename": "KeyError",
     "evalue": "'first'",
     "output_type": "error",
     "traceback": [
      "\u001b[1;31m---------------------------------------------------------------------------\u001b[0m",
      "\u001b[1;31mKeyError\u001b[0m                                  Traceback (most recent call last)",
      "\u001b[1;32m~\\AppData\\Local\\Temp/ipykernel_20336/3753088446.py\u001b[0m in \u001b[0;36m<module>\u001b[1;34m\u001b[0m\n\u001b[0;32m      1\u001b[0m \u001b[0md\u001b[0m \u001b[1;33m=\u001b[0m \u001b[0mdict\u001b[0m\u001b[1;33m(\u001b[0m\u001b[1;33m)\u001b[0m\u001b[1;33m\u001b[0m\u001b[1;33m\u001b[0m\u001b[0m\n\u001b[1;32m----> 2\u001b[1;33m \u001b[0mprint\u001b[0m\u001b[1;33m(\u001b[0m\u001b[0md\u001b[0m\u001b[1;33m[\u001b[0m\u001b[1;34m'first'\u001b[0m\u001b[1;33m]\u001b[0m\u001b[1;33m)\u001b[0m\u001b[1;33m\u001b[0m\u001b[1;33m\u001b[0m\u001b[0m\n\u001b[0m",
      "\u001b[1;31mKeyError\u001b[0m: 'first'"
     ]
    }
   ],
   "source": [
    "d = dict()\n",
    "print(d['first']) #키 값이 존재하지 않아 에러"
   ]
  },
  {
   "cell_type": "code",
   "execution_count": 21,
   "id": "ced4386d",
   "metadata": {},
   "outputs": [
    {
     "data": {
      "text/plain": [
       "defaultdict(<function __main__.<lambda>()>, {})"
      ]
     },
     "execution_count": 21,
     "metadata": {},
     "output_type": "execute_result"
    }
   ],
   "source": [
    "from collections import defaultdict\n",
    "\n",
    "d = defaultdict(lambda: 0) # 디폴트값 생성\n",
    "d"
   ]
  },
  {
   "cell_type": "code",
   "execution_count": 22,
   "id": "ec3fda63",
   "metadata": {},
   "outputs": [
    {
     "data": {
      "text/plain": [
       "0"
      ]
     },
     "execution_count": 22,
     "metadata": {},
     "output_type": "execute_result"
    }
   ],
   "source": [
    "d['first'] # 키값이 없을 때 디폴트값으로 채워줌"
   ]
  },
  {
   "cell_type": "markdown",
   "id": "849d9859",
   "metadata": {},
   "source": [
    "- 하나의 지문에 각 단어들이 몇 개나 있는지 세고 싶을경우?\n",
    "- Text-mining 접근법 - Vector Space Model"
   ]
  },
  {
   "cell_type": "code",
   "execution_count": 27,
   "id": "b69641b1",
   "metadata": {},
   "outputs": [],
   "source": [
    "text = \"\"\"A press release is the quickest and easiest way to get free publicity. If\n",
    "well written, a press release can result in multiple published articles about your\n",
    "firm and its products. And that can mean new prospects contacting you asking you to\n",
    "sell to them. ….\"\"\".lower().split() # 소문자로 split하기"
   ]
  },
  {
   "cell_type": "code",
   "execution_count": 28,
   "id": "dfe45260",
   "metadata": {},
   "outputs": [],
   "source": [
    "def get_key(x):\n",
    "    return x[1]"
   ]
  },
  {
   "cell_type": "code",
   "execution_count": 29,
   "id": "e7a1dfbe",
   "metadata": {},
   "outputs": [],
   "source": [
    "from collections import OrderedDict"
   ]
  },
  {
   "cell_type": "code",
   "execution_count": 30,
   "id": "c9297acc",
   "metadata": {},
   "outputs": [
    {
     "data": {
      "text/plain": [
       "defaultdict(<function __main__.<lambda>()>, {})"
      ]
     },
     "execution_count": 30,
     "metadata": {},
     "output_type": "execute_result"
    }
   ],
   "source": [
    "d = defaultdict(lambda : 0) # 0으로 디폴트값\n",
    "d"
   ]
  },
  {
   "cell_type": "code",
   "execution_count": 31,
   "id": "7eb5a41b",
   "metadata": {},
   "outputs": [],
   "source": [
    "#단어 개수 세기\n",
    "for word in text:\n",
    "    d[word] += 1 # 0에서 +1씩 수행"
   ]
  },
  {
   "cell_type": "code",
   "execution_count": 32,
   "id": "3a70cfe8",
   "metadata": {},
   "outputs": [
    {
     "data": {
      "text/plain": [
       "defaultdict(<function __main__.<lambda>()>,\n",
       "            {'a': 2,\n",
       "             'press': 2,\n",
       "             'release': 2,\n",
       "             'is': 1,\n",
       "             'the': 1,\n",
       "             'quickest': 1,\n",
       "             'and': 3,\n",
       "             'easiest': 1,\n",
       "             'way': 1,\n",
       "             'to': 3,\n",
       "             'get': 1,\n",
       "             'free': 1,\n",
       "             'publicity.': 1,\n",
       "             'if': 1,\n",
       "             'well': 1,\n",
       "             'written,': 1,\n",
       "             'can': 2,\n",
       "             'result': 1,\n",
       "             'in': 1,\n",
       "             'multiple': 1,\n",
       "             'published': 1,\n",
       "             'articles': 1,\n",
       "             'about': 1,\n",
       "             'your': 1,\n",
       "             'firm': 1,\n",
       "             'its': 1,\n",
       "             'products.': 1,\n",
       "             'that': 1,\n",
       "             'mean': 1,\n",
       "             'new': 1,\n",
       "             'prospects': 1,\n",
       "             'contacting': 1,\n",
       "             'you': 2,\n",
       "             'asking': 1,\n",
       "             'sell': 1,\n",
       "             'them.': 1,\n",
       "             '….': 1})"
      ]
     },
     "execution_count": 32,
     "metadata": {},
     "output_type": "execute_result"
    }
   ],
   "source": [
    "d"
   ]
  },
  {
   "cell_type": "code",
   "execution_count": 38,
   "id": "86225eb1",
   "metadata": {},
   "outputs": [
    {
     "name": "stdout",
     "output_type": "stream",
     "text": [
      "OrderedDict([('and', 3), ('to', 3), ('a', 2), ('press', 2), ('release', 2), ('can', 2), ('you', 2), ('is', 1), ('the', 1), ('quickest', 1), ('easiest', 1), ('way', 1), ('get', 1), ('free', 1), ('publicity.', 1), ('if', 1), ('well', 1), ('written,', 1), ('result', 1), ('in', 1), ('multiple', 1), ('published', 1), ('articles', 1), ('about', 1), ('your', 1), ('firm', 1), ('its', 1), ('products.', 1), ('that', 1), ('mean', 1), ('new', 1), ('prospects', 1), ('contacting', 1), ('asking', 1), ('sell', 1), ('them.', 1), ('….', 1)])\n"
     ]
    },
    {
     "data": {
      "text/plain": [
       "3"
      ]
     },
     "execution_count": 38,
     "metadata": {},
     "output_type": "execute_result"
    }
   ],
   "source": [
    "# 내림차순 정렬\n",
    "sorted_dict = OrderedDict()\n",
    "for i, v in sorted(d.items(), key=get_key, reverse=True):\n",
    "    sorted_dict[i] = v  # value값 담기\n",
    "print(sorted_dict)\n",
    "sorted_dict['to'] # 'to'는 3번 "
   ]
  },
  {
   "cell_type": "markdown",
   "id": "2f77e4b0",
   "metadata": {},
   "source": [
    "## Counter\n",
    "- Sequence type의 data element들의 갯수를 dict형태로 반환"
   ]
  },
  {
   "cell_type": "code",
   "execution_count": 40,
   "id": "167ccbf7",
   "metadata": {},
   "outputs": [
    {
     "name": "stdout",
     "output_type": "stream",
     "text": [
      "Counter({'S': 4, 'B': 3})\n"
     ]
    },
    {
     "data": {
      "text/plain": [
       "7"
      ]
     },
     "execution_count": 40,
     "metadata": {},
     "output_type": "execute_result"
    }
   ],
   "source": [
    "from collections import Counter\n",
    "\n",
    "ball_or_strike_list = ['B', 'S', 'S', 'S', 'S', 'B', 'B']\n",
    "c = Counter(ball_or_strike_list)\n",
    "print(c)\n",
    "len(ball_or_strike_list)"
   ]
  },
  {
   "cell_type": "code",
   "execution_count": 43,
   "id": "147a7120",
   "metadata": {},
   "outputs": [
    {
     "name": "stdout",
     "output_type": "stream",
     "text": [
      "['red', 'red', 'red', 'red', 'blue', 'blue']\n"
     ]
    },
    {
     "data": {
      "text/plain": [
       "Counter({'red': 4, 'blue': 2})"
      ]
     },
     "execution_count": 43,
     "metadata": {},
     "output_type": "execute_result"
    }
   ],
   "source": [
    "c = Counter({'red':4, 'blue':2})\n",
    "print(list(c.elements())) #리스트 형태로 반환\n",
    "c"
   ]
  },
  {
   "cell_type": "code",
   "execution_count": 44,
   "id": "e8f9a981",
   "metadata": {},
   "outputs": [
    {
     "name": "stdout",
     "output_type": "stream",
     "text": [
      "['cats', 'cats', 'cats', 'cats', 'dogs', 'dogs', 'dogs', 'dogs', 'dogs', 'dogs', 'dogs', 'dogs']\n"
     ]
    }
   ],
   "source": [
    "c = Counter(cats=4, dogs=8)\n",
    "print(list(c.elements()))"
   ]
  },
  {
   "cell_type": "code",
   "execution_count": 49,
   "id": "a64467d4",
   "metadata": {},
   "outputs": [
    {
     "name": "stdout",
     "output_type": "stream",
     "text": [
      "Counter({'a': 5, 'b': 4, 'c': 3, 'd': 2})\n",
      "Counter({'b': 2, 'a': 1})\n",
      "Counter({'a': 4, 'd': 4, 'c': 3, 'b': 2})\n",
      "Counter({'a': 3, 'b': 0, 'c': -3, 'd': -6})\n"
     ]
    }
   ],
   "source": [
    "# Set의 연산들을 지원함\n",
    "c = Counter(a=4, b=2, c=0, d=-2)\n",
    "d = Counter(a=1, b=2, c=3, d=4)\n",
    "\n",
    "print(c + d)\n",
    "print(c & d)\n",
    "print(c | d)\n",
    "c.subtract(d)  # c-d\n",
    "print(c)"
   ]
  },
  {
   "cell_type": "code",
   "execution_count": 50,
   "id": "74a5cf5a",
   "metadata": {},
   "outputs": [
    {
     "name": "stdout",
     "output_type": "stream",
     "text": [
      "Counter({'and': 3, 'to': 3, 'a': 2, 'press': 2, 'release': 2, 'can': 2, 'you': 2, 'is': 1, 'the': 1, 'quickest': 1, 'easiest': 1, 'way': 1, 'get': 1, 'free': 1, 'publicity.': 1, 'if': 1, 'well': 1, 'written,': 1, 'result': 1, 'in': 1, 'multiple': 1, 'published': 1, 'articles': 1, 'about': 1, 'your': 1, 'firm': 1, 'its': 1, 'products.': 1, 'that': 1, 'mean': 1, 'new': 1, 'prospects': 1, 'contacting': 1, 'asking': 1, 'sell': 1, 'them.': 1, '….': 1})\n",
      "2\n"
     ]
    }
   ],
   "source": [
    "text = \"\"\"A press release is the quickest and easiest way to get free publicity. If\n",
    "well written, a press release can result in multiple published articles about your\n",
    "firm and its products. And that can mean new prospects contacting you asking you to\n",
    "sell to them. ….\"\"\".lower().split()\n",
    "print(Counter(text))\n",
    "print(Counter(text)[\"a\"])"
   ]
  },
  {
   "cell_type": "code",
   "execution_count": 52,
   "id": "9c80d071",
   "metadata": {},
   "outputs": [
    {
     "data": {
      "text/plain": [
       "[('and', 3),\n",
       " ('to', 3),\n",
       " ('a', 2),\n",
       " ('press', 2),\n",
       " ('release', 2),\n",
       " ('can', 2),\n",
       " ('you', 2),\n",
       " ('is', 1),\n",
       " ('the', 1),\n",
       " ('quickest', 1),\n",
       " ('easiest', 1),\n",
       " ('way', 1),\n",
       " ('get', 1),\n",
       " ('free', 1),\n",
       " ('publicity.', 1),\n",
       " ('if', 1),\n",
       " ('well', 1),\n",
       " ('written,', 1),\n",
       " ('result', 1),\n",
       " ('in', 1),\n",
       " ('multiple', 1),\n",
       " ('published', 1),\n",
       " ('articles', 1),\n",
       " ('about', 1),\n",
       " ('your', 1),\n",
       " ('firm', 1),\n",
       " ('its', 1),\n",
       " ('products.', 1),\n",
       " ('that', 1),\n",
       " ('mean', 1),\n",
       " ('new', 1),\n",
       " ('prospects', 1),\n",
       " ('contacting', 1),\n",
       " ('asking', 1),\n",
       " ('sell', 1),\n",
       " ('them.', 1),\n",
       " ('….', 1)]"
      ]
     },
     "execution_count": 52,
     "metadata": {},
     "output_type": "execute_result"
    }
   ],
   "source": [
    "sorted(Counter(text).items(), key=lambda t : t[1], reverse=True)"
   ]
  },
  {
   "cell_type": "markdown",
   "id": "9442d177",
   "metadata": {},
   "source": [
    "## namedtuple\n",
    "- Tuple 형태로 데이터 **구조체**를 저장\n",
    "- 저장하는 data의 variable을 사전에 지정해서 저장"
   ]
  },
  {
   "cell_type": "code",
   "execution_count": 54,
   "id": "d4dd5f67",
   "metadata": {},
   "outputs": [
    {
     "data": {
      "text/plain": [
       "__main__.Point"
      ]
     },
     "execution_count": 54,
     "metadata": {},
     "output_type": "execute_result"
    }
   ],
   "source": [
    "from collections import namedtuple\n",
    "\n",
    "Point = namedtuple('Point', ['x', 'y'])\n",
    "Point"
   ]
  },
  {
   "cell_type": "code",
   "execution_count": 55,
   "id": "0d44b37d",
   "metadata": {},
   "outputs": [
    {
     "data": {
      "text/plain": [
       "(11, 22)"
      ]
     },
     "execution_count": 55,
     "metadata": {},
     "output_type": "execute_result"
    }
   ],
   "source": [
    "p = Point(x=11, y=22)\n",
    "p[0], p[1]"
   ]
  },
  {
   "cell_type": "code",
   "execution_count": 62,
   "id": "96704394",
   "metadata": {},
   "outputs": [
    {
     "name": "stdout",
     "output_type": "stream",
     "text": [
      "11 22\n",
      "33\n",
      "Point(x=11, y=22)\n"
     ]
    }
   ],
   "source": [
    "x, y = p #언패킹\n",
    "print(x,y)\n",
    "print(p.x + p.y)\n",
    "print(Point(x=11, y=22))"
   ]
  }
 ],
 "metadata": {
  "kernelspec": {
   "display_name": "Python 3 (ipykernel)",
   "language": "python",
   "name": "python3"
  },
  "language_info": {
   "codemirror_mode": {
    "name": "ipython",
    "version": 3
   },
   "file_extension": ".py",
   "mimetype": "text/x-python",
   "name": "python",
   "nbconvert_exporter": "python",
   "pygments_lexer": "ipython3",
   "version": "3.9.7"
  }
 },
 "nbformat": 4,
 "nbformat_minor": 5
}
