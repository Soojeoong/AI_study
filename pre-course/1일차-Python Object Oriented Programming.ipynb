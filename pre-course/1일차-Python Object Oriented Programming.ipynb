{
 "cells": [
  {
   "cell_type": "markdown",
   "id": "05e2f095",
   "metadata": {},
   "source": [
    "## 객체 지향 프로그래밍\n",
    "- Object-Oriented Programming, OOP\n",
    "- 객체 : 속성, 행동을 가짐\n",
    "- 속성 : 변수(variable), 행동 : 함수(method)\n",
    "- 파이썬도 객체 지향 프로그램 언어\n",
    "- 붕어빵 틀 : class, 붕어빵 : instance(실제 구현체)"
   ]
  },
  {
   "cell_type": "markdown",
   "id": "0a5b5495",
   "metadata": {},
   "source": [
    "## class 구현하기\n",
    " - 축구 선수 정보를 Class로 구현하기\n",
    "### 파이썬 naming rule\n",
    "- snake_case : 띄어쓰기에 '_' 추가 -> 함수/변수명\n",
    "- CamelCase: 띄어쓰기 부분에 대문자 -> Class명"
   ]
  },
  {
   "cell_type": "markdown",
   "id": "31197b31",
   "metadata": {},
   "source": [
    "### Attribute 추가하기\n",
    "- _ _init_ _ : 객체 초기화 예약 함수\n",
    "- self : 생성된 instance "
   ]
  },
  {
   "cell_type": "markdown",
   "id": "87c93c7a",
   "metadata": {},
   "source": [
    "### 파이썬에서 __ 의미 : 매직 매쏘드\n",
    "- 참고 : https://wikidocs.net/83755\n",
    "- __ 는 특수한 예약 함수나 변수 그리고 함수명 변경(맨글링)으로 사용\n",
    "- ex) __ main __, __ add __, __ str __, __ eq __"
   ]
  },
  {
   "cell_type": "code",
   "execution_count": 2,
   "id": "c91898fc",
   "metadata": {},
   "outputs": [],
   "source": [
    "class SoccerPlayer(object):\n",
    "    pass\n",
    "# 객체 = 클래스()\n",
    "abc = SoccerPlayer()\n",
    "ddd = SoccerPlayer()\n",
    "eee = SoccerPlayer()"
   ]
  },
  {
   "cell_type": "code",
   "execution_count": 3,
   "id": "f0615d24",
   "metadata": {},
   "outputs": [
    {
     "data": {
      "text/plain": [
       "False"
      ]
     },
     "execution_count": 3,
     "metadata": {},
     "output_type": "execute_result"
    }
   ],
   "source": [
    "abc is ddd # 다름 (메모리 주소도 다름)"
   ]
  },
  {
   "cell_type": "code",
   "execution_count": 5,
   "id": "88ff809b",
   "metadata": {},
   "outputs": [],
   "source": [
    "class SoccerPlayer(object):\n",
    "    def __init__(self, name:str, position:str, back_number:int):\n",
    "        self.name = name\n",
    "        self.position = position\n",
    "        self.back_number = back_number"
   ]
  },
  {
   "cell_type": "code",
   "execution_count": 7,
   "id": "de7b17c9",
   "metadata": {},
   "outputs": [],
   "source": [
    "son = SoccerPlayer('son', 'FW', 7)\n",
    "park = SoccerPlayer('park', 'WF', 13)"
   ]
  },
  {
   "cell_type": "code",
   "execution_count": 8,
   "id": "7f77841f",
   "metadata": {},
   "outputs": [
    {
     "data": {
      "text/plain": [
       "False"
      ]
     },
     "execution_count": 8,
     "metadata": {},
     "output_type": "execute_result"
    }
   ],
   "source": [
    "son is park # 서로 다른 객체"
   ]
  },
  {
   "cell_type": "code",
   "execution_count": 10,
   "id": "4dbbc328",
   "metadata": {},
   "outputs": [],
   "source": [
    "class SoccerPlayer(object):\n",
    "    def __init__(self, name:str, position:str, back_number:int):\n",
    "        self.name = name\n",
    "        self.position = position\n",
    "        self.back_number = back_number\n",
    "    \n",
    "    def __str__(self):\n",
    "        return 'Hello, My name is %s. My back number is %d' % \\\n",
    "                (self.name, self.back_number)\n",
    "    \n",
    "    def __add__(self, other):\n",
    "        return self.name + other.name"
   ]
  },
  {
   "cell_type": "code",
   "execution_count": 12,
   "id": "1a9616b0",
   "metadata": {},
   "outputs": [
    {
     "data": {
      "text/plain": [
       "'sonpark'"
      ]
     },
     "execution_count": 12,
     "metadata": {},
     "output_type": "execute_result"
    }
   ],
   "source": [
    "son = SoccerPlayer('son', 'FW', 7)\n",
    "park = SoccerPlayer('park', 'WF', 13)\n",
    "son + park"
   ]
  },
  {
   "cell_type": "markdown",
   "id": "32c932ad",
   "metadata": {},
   "source": [
    "## OOP 특징"
   ]
  },
  {
   "cell_type": "markdown",
   "id": "bde856d3",
   "metadata": {},
   "source": [
    "### 1. 상속(inheritance)\n",
    "- 부모클래스로부터 속성과 method를 물려받은 자식 클래스 생성"
   ]
  },
  {
   "cell_type": "markdown",
   "id": "e9a3a30c",
   "metadata": {},
   "source": [
    "### 2. 다형성(Polymorphism overview)\n",
    "- 같은 이름 메소드의 내부 로직을 다르게 작성\n",
    "- 부모클래스의 상속에서 주로 발생"
   ]
  },
  {
   "cell_type": "markdown",
   "id": "3e3aa41b",
   "metadata": {},
   "source": [
    "### 3. 가시성(Visibility)\n",
    "- 객체의 정보를 볼 수 있는 레벨을 조절하는 것\n",
    "- 누구나 객체 안에 모든 변수를 볼 필요가 없음"
   ]
  },
  {
   "cell_type": "markdown",
   "id": "b0a42550",
   "metadata": {},
   "source": [
    "#### Encapsulation\n",
    "- 캡슐화 또는 정보 은닉\n",
    "- class를 설계할 때, 클래스 간 간섭/정보공유의 최소화\n",
    "- 캡슐을 던지듯, 인터페이스만 알아서 써야함"
   ]
  },
  {
   "cell_type": "code",
   "execution_count": 4,
   "id": "cd0bf39b",
   "metadata": {},
   "outputs": [],
   "source": [
    "class Inventory(object):\n",
    "    def __init__(self):\n",
    "        self.__items = [] ## Private 변수로 선언 타객체가 접근 못함"
   ]
  },
  {
   "cell_type": "markdown",
   "id": "c01d0345",
   "metadata": {},
   "source": [
    "## Decorator @\n",
    "### First-class objects\n",
    "- 일등함수 또는 일급 객체\n",
    "- 변수나 데이터 구조에 할당이 가능한 객체\n",
    "- 파라미터로 전달이 가능 + 리턴 값으로 사용\n",
    "### inner function\n",
    "- 함수 내에 또 다른 함수 존재\n",
    "- closures : inner functinoㅇ르 return값으로 반환"
   ]
  }
 ],
 "metadata": {
  "kernelspec": {
   "display_name": "Python 3 (ipykernel)",
   "language": "python",
   "name": "python3"
  },
  "language_info": {
   "codemirror_mode": {
    "name": "ipython",
    "version": 3
   },
   "file_extension": ".py",
   "mimetype": "text/x-python",
   "name": "python",
   "nbconvert_exporter": "python",
   "pygments_lexer": "ipython3",
   "version": "3.9.7"
  }
 },
 "nbformat": 4,
 "nbformat_minor": 5
}
