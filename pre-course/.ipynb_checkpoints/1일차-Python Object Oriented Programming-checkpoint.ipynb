{
 "cells": [
  {
   "cell_type": "markdown",
   "id": "05e2f095",
   "metadata": {},
   "source": [
    "## 객체 지향 프로그래밍\n",
    "- Object-Oriented Programming, OOP\n",
    "- 객체 : 속성, 행동을 가짐\n",
    "- 속성 : 변수(variable), 행동 : 함수(method)\n",
    "- 파이썬도 객체 지향 프로그램 언어\n",
    "- 붕어빵 틀 : class, 붕어빵 : instance(실제 구현체)"
   ]
  },
  {
   "cell_type": "markdown",
   "id": "0a5b5495",
   "metadata": {},
   "source": [
    "## class 구현하기\n",
    " - 축구 선수 정보를 Class로 구현하기\n",
    "### 파이썬 naming rule\n",
    "- snake_case : 띄어쓰기에 '_' 추가 -> 함수/변수명\n",
    "- CamelCase: 띄어쓰기 부분에 대문자 -> Class명"
   ]
  },
  {
   "cell_type": "markdown",
   "id": "31197b31",
   "metadata": {},
   "source": [
    "### Attribute 추가하기\n",
    "- _ _init_ _ : 객체 초기화 예약 함수\n",
    "- self"
   ]
  },
  {
   "cell_type": "code",
   "execution_count": 1,
   "id": "88ff809b",
   "metadata": {},
   "outputs": [],
   "source": [
    "class SoccerPlayer(object):\n",
    "    def __init__(self, name, position, back_number):\n",
    "        self.name = name\n",
    "        self.position = position\n",
    "        self.back_number = back_number"
   ]
  },
  {
   "cell_type": "code",
   "execution_count": null,
   "id": "de7b17c9",
   "metadata": {},
   "outputs": [],
   "source": [
    "13:00"
   ]
  }
 ],
 "metadata": {
  "kernelspec": {
   "display_name": "Python 3 (ipykernel)",
   "language": "python",
   "name": "python3"
  },
  "language_info": {
   "codemirror_mode": {
    "name": "ipython",
    "version": 3
   },
   "file_extension": ".py",
   "mimetype": "text/x-python",
   "name": "python",
   "nbconvert_exporter": "python",
   "pygments_lexer": "ipython3",
   "version": "3.9.7"
  }
 },
 "nbformat": 4,
 "nbformat_minor": 5
}
