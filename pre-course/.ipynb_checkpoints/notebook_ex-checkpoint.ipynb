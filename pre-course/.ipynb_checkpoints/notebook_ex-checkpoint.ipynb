{
 "cells": [
  {
   "cell_type": "markdown",
   "id": "4b78b9f0",
   "metadata": {},
   "source": [
    "- Note를 정리하는 프로그램"
   ]
  },
  {
   "cell_type": "markdown",
   "id": "f440dc10",
   "metadata": {},
   "source": [
    "|제목|내용|설명|\n",
    "|------|---|---|\n",
    "|테스트1|테스트2|테스트3|\n",
    "|테스트1|테스트2|테스트3|\n",
    "|테스트1|테스트2|테스트3|\n",
    "\n",
    "25:43\n",
    "이 파일 만들고 다른 파일도"
   ]
  }
 ],
 "metadata": {
  "kernelspec": {
   "display_name": "Python 3 (ipykernel)",
   "language": "python",
   "name": "python3"
  },
  "language_info": {
   "codemirror_mode": {
    "name": "ipython",
    "version": 3
   },
   "file_extension": ".py",
   "mimetype": "text/x-python",
   "name": "python",
   "nbconvert_exporter": "python",
   "pygments_lexer": "ipython3",
   "version": "3.9.7"
  }
 },
 "nbformat": 4,
 "nbformat_minor": 5
}
